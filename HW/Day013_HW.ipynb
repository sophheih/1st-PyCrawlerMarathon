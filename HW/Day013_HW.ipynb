{
 "cells": [
  {
   "cell_type": "markdown",
   "metadata": {},
   "source": [
    "# PTT 網路爬蟲實作練習\n",
    "\n",
    "\n",
    "* 能夠利用 Request + BeatifulSour 撰寫爬蟲，並存放到合適的資料結構\n"
   ]
  },
  {
   "cell_type": "markdown",
   "metadata": {},
   "source": [
    "## 作業目標\n",
    "\n",
    "根據範例 ，完成以下問題：\n",
    "\n",
    "* ① 印出最新文章的「作者」「標題」「時間」\n",
    "* ② 印出第一頁所有文章的「作者」「標題」「時間」\n"
   ]
  },
  {
   "cell_type": "markdown",
   "metadata": {},
   "source": [
    "### ① 印出最新文章的「作者」「標題」「時間」"
   ]
  },
  {
   "cell_type": "code",
   "execution_count": 1,
   "metadata": {
    "scrolled": true
   },
   "outputs": [
    {
     "name": "stdout",
     "output_type": "stream",
     "text": [
      "(已被Vedan刪除) <direct>1-1 1-2\n",
      "[情報] 連7戰個人得分突破30+　巫師畢爾隊史總得分升第3位\n",
      "作者: Frobel (幼稚教育之父)\n",
      "時間: Tue Feb  4 23:09:13 2020\n",
      "Re: [討論] kobe\"老大\"這綽號是怎麼來的?\n",
      "作者: cidexin (月娥)\n",
      "時間: Tue Feb  4 23:14:48 2020\n",
      "[情報] Morant回擊Curry\n",
      "作者: UCAthena (Let's go __)\n",
      "時間: Tue Feb  4 23:43:31 2020\n",
      "[新聞] 沒唐西奇打更好？ KP：這是我的課題\n",
      "作者: Gotham (萬惡之城)\n",
      "時間: Tue Feb  4 23:50:11 2020\n",
      "[情報] Shams：尼克將Knox加入與勇士間關於Dlo\n",
      "作者: s27052705 (小飽)\n",
      "時間: Wed Feb  5 00:10:15 2020\n",
      "(本文已被刪除) [KDSKY]\n",
      "[公告] 板規v6.8\n",
      "[公告] 樂透取消及未來不再開啟樂透\n",
      "作者: Vedan (味丹)\n",
      "時間: Mon Jun 24 15:08:02 2019\n",
      "[公告] 版主上任相關事項 \n",
      "作者: qazwsx879345 (Rajon Rondo)\n",
      "時間: Fri Oct 25 10:44:03 2019\n",
      "[情報] SEASON Schedule 賽程 February 19–20\n",
      "作者: Acetoxy (阿斯)\n",
      "時間: Fri Jan 31 22:36:43 2020\n"
     ]
    }
   ],
   "source": [
    "import requests\n",
    "from bs4 import BeautifulSoup\n",
    "\n",
    "url = 'https://www.ptt.cc/bbs/NBA/index.html'\n",
    "r = requests.get(url)\n",
    "\n",
    "soup = BeautifulSoup(r.text, \"html5lib\")\n",
    "\n",
    "for d in soup.find_all(class_=\"title\"):\n",
    "    print(d.text.replace('\\t', '').replace('\\n', ''))\n",
    "    try:\n",
    "        r = BeautifulSoup(requests.get('https://www.ptt.cc'+d.find('a')['href']).text, \"html5lib\")\n",
    "        print('作者: ' + r.find(class_='article-meta-value').text)\n",
    "        print('時間: ' + r.find(class_ = 'article-meta-tag', string = \"時間\").next_sibling.string)\n",
    "    except:\n",
    "        continue"
   ]
  },
  {
   "cell_type": "markdown",
   "metadata": {},
   "source": [
    "### ② 印出第一頁所有文章的「作者」「標題」「時間」"
   ]
  },
  {
   "cell_type": "code",
   "execution_count": 2,
   "metadata": {
    "scrolled": true
   },
   "outputs": [
    {
     "name": "stdout",
     "output_type": "stream",
     "text": [
      "標題: [轉錄]Lyotard 對於太陽板討論串的結論\n",
      "作者: Price (Price)\n",
      "時間: Sun May 16 01:54:33 2004\n",
      "標題: [公告] 請停止一切關於本次活動的發言\n",
      "作者: Price (Price)\n",
      "時間: Mon May 24 00:43:00 2004\n",
      "標題: [轉錄]跟之前那篇比起來 我覺得這篇也應該轉過來\n",
      "作者: Frankaze (神采風華)\n",
      "時間: Tue Jun  8 01:16:45 2004\n",
      "標題: [轉錄]再轉一篇好文來\n",
      "作者: Frankaze (神采風華)\n",
      "時間: Tue Jun  8 09:02:23 2004\n",
      "標題: [轉錄][情報] 夏洛特山貓系列\n",
      "作者: Price (Price)\n",
      "時間: Thu Jun 10 00:39:35 2004\n",
      "標題: [轉錄]Re: [心得] 真是受不了糗爺....\n",
      "作者: Price (Price)\n",
      "時間: Thu Jun 10 00:51:35 2004\n",
      "標題: [轉錄]總冠軍賽NO.2觀後感\n",
      "作者: Price (Price)\n",
      "時間: Thu Jun 10 12:05:07 2004\n",
      "標題: [心得] Rasheed Wallace\n",
      "作者: AmuroNamie (原來太嗨真的會失眠^___^)\n",
      "時間: Fri Jun 11 15:06:09 2004\n",
      "標題: 掌控球賽的男人\n",
      "作者: toptree (  )\n",
      "時間: Sat Jun 12 07:13:04 2004\n",
      "標題: [閒聊] 說說2004季後賽名場面回顧\n",
      "作者: skchang (3EB板開板囉！)\n",
      "時間: Sat Jun 12 13:21:49 2004\n",
      "標題: [心得] 其實說穿了 就是活塞的防守太可怕了\n",
      "作者: shineup ()\n",
      "時間: Sat Jun 12 13:12:47 2004\n",
      "標題: Re: [閒聊] 說說2004季後賽名場面回顧\n",
      "作者: cOvi (喵~)\n",
      "時間: Sat Jun 12 16:43:07 2004\n",
      "標題: Re: [閒聊] 說說2004季後賽名場面回顧\n",
      "作者: ykshih (￼N￼Ns)\n",
      "時間: Sat Jun 12 17:26:37 2004\n",
      "標題: Re: [閒聊] 說說2004季後賽名場面回顧\n",
      "作者: Frankaze (神采風華)\n",
      "時間: Sat Jun 12 18:34:46 2004\n",
      "標題: [轉錄]Re: 總冠軍賽NO.3觀後感\n",
      "作者: Price (Price)\n",
      "時間: Mon Jun 14 02:18:52 2004\n",
      "標題: [轉錄]Re: 總冠軍賽NO.3觀後感\n",
      "作者: Frankaze (神采風華)\n",
      "時間: Mon Jun 14 02:34:33 2004\n",
      "標題: Re: [轉錄]Re: 總冠軍賽NO.3觀後感\n",
      "作者: star1 (第一次魔術表演不算成功)\n",
      "時間: Mon Jun 14 07:16:30 2004\n",
      "標題: Re: [轉錄]Re: 總冠軍賽NO.3觀後感\n",
      "作者: coldspring (笑笑)\n",
      "時間: Mon Jun 14 09:24:57 2004\n",
      "標題: Re: Kobe is frustrated...\n",
      "作者: airbear (地圖)\n",
      "時間: Mon Jun 14 12:56:14 2004\n",
      "標題: Re: [轉錄]Re: 總冠軍賽NO.3觀後感\n",
      "作者: pennykidd (andre)\n",
      "時間: Mon Jun 14 22:07:01 2004\n"
     ]
    }
   ],
   "source": [
    "import requests\n",
    "from bs4 import BeautifulSoup\n",
    "\n",
    "url = 'https://www.ptt.cc/bbs/NBA/index1.html'\n",
    "r = requests.get(url)\n",
    "soup = BeautifulSoup(r.text, 'html5lib')\n",
    "\n",
    "for d in soup.find_all(class_=\"title\"):\n",
    "    print('標題: ' + d.text.replace('\\t', '').replace('\\n', ''))\n",
    "    try:\n",
    "        r = BeautifulSoup(requests.get('https://www.ptt.cc' + d.find('a')['href']).text, \"html5lib\")\n",
    "        print('作者: ' + r.find(class_ = 'article-meta-value').text)\n",
    "        print('時間: ' + r.find(class_ = 'article-meta-tag', string = \"時間\").next_sibling.string)\n",
    "\n",
    "    except:\n",
    "        continue"
   ]
  },
  {
   "cell_type": "markdown",
   "metadata": {},
   "source": [
    "### ③ 試著爬爬看其他版的文章"
   ]
  },
  {
   "cell_type": "code",
   "execution_count": 3,
   "metadata": {
    "scrolled": true
   },
   "outputs": [
    {
     "name": "stdout",
     "output_type": "stream",
     "text": [
      "標題: [公告] 營業業務專區&相關文章規定\n",
      "作者: ddk (無時無刻都在想妳 )\n",
      "時間: Tus Jul 24 13:10:49 2007\n",
      "標題: [公告] 台大校友團隊招生相關討論\n",
      "作者: eyespot (追求內心的自在)\n",
      "時間: Sat Jan  6 17:03:21 2007\n",
      "標題: [公告] 標題種類\n",
      "作者: ddk (　)\n",
      "時間: Tue Mar 13 10:52:25 2007\n",
      "標題: [公告] 標題種類及分類\n",
      "作者: ddk (　)\n",
      "時間: Tue Mar 20 14:45:28 2007\n",
      "標題: [公告] 被砍除之文章\n",
      "作者: ddk (　)\n",
      "時間: Thu Mar 29 14:32:41 2007\n",
      "標題: Re: 為什麼用標的被砍 用閒聊又被砍???\n",
      "作者: eyespot (追求內心的自在)\n",
      "時間: Tue Apr 10 15:16:35 2007\n",
      "標題: [公告] 發文限制\n",
      "作者: eyespot (追求內心的自在)\n",
      "時間: Thu Apr 12 15:04:51 2007\n",
      "標題: [公告] 精華區更新 (20070417 修正版)\n",
      "作者: ddk (玩卡丁不管股票小白17021)\n",
      "時間: Tue Apr 17 08:04:40 2007\n",
      "標題: [公告] 盤中閒聊 - 已收入精華區\n",
      "作者: ddk (玩卡丁不管股票小白17021)\n",
      "時間: Wed Apr 18 08:31:39 2007\n",
      "標題: [公告] 上面數篇標題\n",
      "作者: ddk (玩卡丁不管股票小白17021)\n",
      "時間: Tue Apr 24 23:07:45 2007\n",
      "標題: Re: [閒聊] 賭盤閒聊~\n",
      "作者: ddk (玩卡丁不管股票小白17021)\n",
      "時間: Wed May  2 06:18:57 2007\n",
      "標題: [公告] 有關賭盤\n",
      "作者: ddk (馬拉松G3-30d=10000批幣)\n",
      "時間: Fri May 11 06:20:41 2007\n",
      "標題: Re: [請益] 如何克服追高殺低心理\n",
      "作者: simpleisbest (簡單就是最好)\n",
      "時間: Wed May 30 23:45:39 2007\n",
      "標題: [標的] 個股財務面分析中鴻2014\n",
      "作者: IanLi (IanLi)\n",
      "時間: Sun Jun 17 02:32:58 2007\n",
      "標題: [公告] 一行文\n",
      "作者: ddk (馬拉松G3-30d=10000批幣)\n",
      "時間: Sat Jun 23 17:22:25 2007\n",
      "標題: [公告] 看版文章\n",
      "作者: ddk (Smooth)\n",
      "時間: Mon Jul  9 21:41:44 2007\n",
      "標題: Re: [請益] 當沖、融資、卷\n",
      "作者: coconing (非正妹、非營業員)\n",
      "時間: Mon Jul 23 09:29:28 2007\n",
      "標題: Re:[其他] 除息\n",
      "作者: coconing (非正妹、非營業員)\n",
      "時間: Mon Jul 23 12:32:28 2007\n",
      "標題: [公告] 有關廣告文\n",
      "作者: ddk (Smooth)\n",
      "時間: Tue Jul 24 13:47:55 2007\n",
      "標題: Re: [請益] 整體維持率如何計算？\n",
      "作者: coconing (非正妹、非營業員)\n",
      "時間: Wed Jul 25 18:02:09 2007\n"
     ]
    }
   ],
   "source": [
    "import requests\n",
    "from bs4 import BeautifulSoup\n",
    "\n",
    "url = 'https://www.ptt.cc/bbs/Stock/index1.html'\n",
    "r = requests.get(url)\n",
    "soup = BeautifulSoup(r.text, 'html5lib')\n",
    "\n",
    "for d in soup.find_all(class_=\"title\"):\n",
    "    print('標題: ' + d.text.replace('\\t', '').replace('\\n', ''))\n",
    "    try:\n",
    "        r = BeautifulSoup(requests.get('https://www.ptt.cc' + d.find('a')['href']).text, \"html5lib\")\n",
    "        print('作者: ' + r.find(class_ = 'article-meta-value').text)\n",
    "        print('時間: ' + r.find(class_ = 'article-meta-tag', string = \"時間\").next_sibling.string)\n",
    "\n",
    "    except:\n",
    "        continue"
   ]
  },
  {
   "cell_type": "code",
   "execution_count": null,
   "metadata": {},
   "outputs": [],
   "source": []
  }
 ],
 "metadata": {
  "kernelspec": {
   "display_name": "Python 3",
   "language": "python",
   "name": "python3"
  },
  "language_info": {
   "codemirror_mode": {
    "name": "ipython",
    "version": 3
   },
   "file_extension": ".py",
   "mimetype": "text/x-python",
   "name": "python",
   "nbconvert_exporter": "python",
   "pygments_lexer": "ipython3",
   "version": "3.7.3"
  }
 },
 "nbformat": 4,
 "nbformat_minor": 2
}
