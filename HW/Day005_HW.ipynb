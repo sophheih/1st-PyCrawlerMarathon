{
 "cells": [
  {
   "cell_type": "markdown",
   "metadata": {},
   "source": [
    "# API 資料串接 - 以 Dcard API 實作範例\n",
    "\n",
    "* 了解 Dcard API 使用方式與回傳內容\n",
    "* 撰寫程式存取 API 且解析 JSON 格式資料\n"
   ]
  },
  {
   "cell_type": "markdown",
   "metadata": {},
   "source": [
    "## 作業目標\n",
    "\n",
    "* 請利用 API: https://www.dcard.tw/_api/forums/pet/posts?popular=true 回答下列問題：\n",
    "\n",
    "1. 這個 API 一次會回傳幾筆資料？每一筆資料包含哪些欄位？\n",
    "2. 取出每一筆資料的「標題」、「貼文時間」、「留言人數」、「按讚人數」\n",
    "3. 計算熱門/非熱門文章的「平均留言人數」與「平均按讚人數」"
   ]
  },
  {
   "cell_type": "code",
   "execution_count": 2,
   "metadata": {},
   "outputs": [
    {
     "name": "stdout",
     "output_type": "stream",
     "text": [
      "30\n",
      "dict_keys(['id', 'title', 'excerpt', 'anonymousSchool', 'anonymousDepartment', 'pinned', 'forumId', 'replyId', 'createdAt', 'updatedAt', 'commentCount', 'likeCount', 'withNickname', 'tags', 'topics', 'meta', 'forumName', 'forumAlias', 'gender', 'school', 'replyTitle', 'mediaMeta', 'reactions', 'hidden', 'customStyle', 'isSuspiciousAccount', 'layout', 'withImages', 'withVideos', 'media', 'reportReasonText', 'postAvatar'])\n"
     ]
    }
   ],
   "source": [
    "# 1. 這個 API 一次會回傳幾筆資料？每一筆資料包含哪些欄\n",
    "import json\n",
    "import requests\n",
    "\n",
    "r = requests.get('https://www.dcard.tw/_api/forums/pet/posts?popular=true')\n",
    "j = json.loads(r.text)\n",
    "print(len(j))\n",
    "print(j[0].keys())"
   ]
  },
  {
   "cell_type": "code",
   "execution_count": 19,
   "metadata": {
    "scrolled": true
   },
   "outputs": [
    {
     "name": "stdout",
     "output_type": "stream",
     "text": [
      " 1 貼文時間2020-01-22T14:26:03.254Z   留言人數  4 按讚人數 71 標題:真心愛著我的貓                   \n",
      " 2 貼文時間2020-01-23T03:43:04.878Z   留言人數  3 按讚人數 43 標題:養了四隻貓                     \n",
      " 3 貼文時間2020-01-22T03:26:42.385Z   留言人數  1 按讚人數 42 標題:猴硐 一日遊😊                   \n",
      " 4 貼文時間2020-01-22T10:57:08.970Z   留言人數  1 按讚人數 22 標題:拾獲一隻臘腸米克斯（台中西屯）           \n",
      " 5 貼文時間2020-01-22T03:51:57.948Z   留言人數  3 按讚人數 22 標題:粉紅肉球🐾                     \n",
      " 6 貼文時間2020-01-22T13:23:28.879Z   留言人數  1 按讚人數 19 標題:［台南佳里協尋小鸚鸚鵡］              \n",
      " 7 貼文時間2020-01-22T08:22:55.899Z   留言人數  1 按讚人數 19 標題:尋狗啟示 高雄 馬爾濟斯              \n",
      " 8 貼文時間2020-01-22T03:45:01.252Z   留言人數  1 按讚人數 19 標題:#彰化師大#誰家的狗狗走失了嗎           \n",
      " 9 貼文時間2020-01-22T16:43:33.545Z   留言人數  4 按讚人數 18 標題:幼貓走失？                     \n",
      "10 貼文時間2020-01-22T13:16:24.424Z   留言人數  3 按讚人數 17 標題:貓//一個月形象破滅                \n",
      "11 貼文時間2020-01-22T14:24:38.856Z   留言人數  2 按讚人數 16 標題:玄鳳-鳥奴                     \n",
      "12 貼文時間2020-01-22T07:25:21.891Z   留言人數  5 按讚人數 15 標題:寵物保險／醫療預備金                \n",
      "13 貼文時間2020-01-22T16:10:56.792Z   留言人數  1 按讚人數 12 標題:屬於酪梨的觸摸訓練                 \n",
      "14 貼文時間2020-01-22T14:50:43.221Z   留言人數  4 按讚人數 12 標題:救救我家睡鼠～～～                 \n",
      "15 貼文時間2020-01-22T02:49:41.959Z   留言人數  0 按讚人數 11 標題:（圖多）之後見不到牠了               \n",
      "16 貼文時間2020-01-22T18:38:15.270Z   留言人數  5 按讚人數 10 標題:請問這是什麼狗狗！🙏🐶               \n",
      "17 貼文時間2020-01-22T19:07:38.908Z   留言人數  3 按讚人數  9 標題:#找                        \n",
      "18 貼文時間2020-01-22T16:00:07.720Z   留言人數  0 按讚人數  9 標題:狗狗走失                      \n",
      "19 貼文時間2020-01-22T14:48:42.767Z   留言人數  0 按讚人數  9 標題:貓咪走失                      \n",
      "20 貼文時間2020-01-23T02:42:36.345Z   留言人數  3 按讚人數  8 標題:#兔子 尋找校版可愛兔               \n",
      "21 貼文時間2020-01-22T19:08:50.370Z   留言人數  1 按讚人數  8 標題:遲到的原因不是藉口                 \n",
      "22 貼文時間2020-01-22T12:10:30.381Z   留言人數  3 按讚人數  7 標題:你願意給愛滋貓一個家嗎？全臺送養          \n",
      "23 貼文時間2020-01-22T03:04:36.710Z   留言人數  1 按讚人數  6 標題:我妻善逸                      \n",
      "24 貼文時間2020-01-23T04:06:50.263Z   留言人數  0 按讚人數  5 標題:拉拉愛鑽行李箱？                  \n",
      "25 貼文時間2020-01-22T06:20:37.968Z   留言人數  0 按讚人數  5 標題:我家的狗狗                     \n",
      "26 貼文時間2020-01-22T05:28:17.044Z   留言人數  5 按讚人數  5 標題:#有圖慎入 鬥魚終於便便了             \n",
      "27 貼文時間2020-01-22T14:46:42.449Z   留言人數  0 按讚人數  4 標題:Ya~~~~~魚皮來囉🤪              \n",
      "28 貼文時間2020-01-22T12:43:34.440Z   留言人數  1 按讚人數  4 標題:可惡飼主放任比特犬咬傷浪浪(內有血腥照)      \n",
      "29 貼文時間2020-01-22T12:15:06.487Z   留言人數  0 按讚人數  4 標題:幫高調 魚池鄉協尋狗狗               \n",
      "30 貼文時間2020-01-23T06:56:50.072Z   留言人數  2 按讚人數  3 標題:😾我家有隻主子洗澡就要他的命🐶好險我有『秘密武器』，再也不用在擔心幫他洗澡就像在打仗💘\n"
     ]
    }
   ],
   "source": [
    "# 2. 取出每一筆資料的「標題」、「貼文時間」、「留言人數」、「按讚人數」\n",
    "import json\n",
    "import requests\n",
    "r = requests.get('https://www.dcard.tw/_api/forums/pet/posts?popular=true')\n",
    "j = json.loads(r.text)\n",
    "n = 0\n",
    "for x in j :\n",
    "    n += 1\n",
    "    print(\"{:>2n} 貼文時間{:<26s} 留言人數{:3d} 按讚人數{:3d} 標題:{:26s}\".format(n,x[\"createdAt\"],x[\"commentCount\"],x[\"likeCount\"],x[\"title\"]))"
   ]
  },
  {
   "cell_type": "code",
   "execution_count": 31,
   "metadata": {},
   "outputs": [
    {
     "name": "stdout",
     "output_type": "stream",
     "text": [
      "熱門文章\n",
      "平均留言人數: 2.0\n",
      "平均按讚人數: 16.4\n",
      "非熱門文章\n",
      "平均留言人數: 1.4\n",
      "平均按讚人數: 5.7\n"
     ]
    }
   ],
   "source": [
    "# 3. 計算熱門/非熱門文章的「平均留言人數」與「平均按讚人數」\n",
    "import requests\n",
    "import json \n",
    "sum_com= 0\n",
    "sum_like = 0\n",
    "r = requests.get(\"https://www.dcard.tw/_api/forums/pet/posts?popular=true\")\n",
    "j = json.loads(r.text)\n",
    "for x in j:\n",
    "    sum_com += x[\"commentCount\"]\n",
    "    sum_like += x[\"likeCount\"]\n",
    "print(\"熱門文章\")\n",
    "print(\"平均留言人數:\" ,sum_com/len(j))\n",
    "print(\"平均按讚人數:\",sum_like/len(j))\n",
    "sum_com2= 0\n",
    "sum_like2 = 0\n",
    "r2 = requests.get(\"https://www.dcard.tw/_api/forums/pet/posts?popular=false\")\n",
    "j2 = json.loads(r2.text)\n",
    "for x in j2:\n",
    "    sum_com2 += x[\"commentCount\"]\n",
    "    sum_like2 += x[\"likeCount\"]\n",
    "print(\"非熱門文章\")\n",
    "print(\"平均留言人數:\" ,sum_com2/len(j2))\n",
    "print(\"平均按讚人數:\",sum_like2/len(j2))"
   ]
  },
  {
   "cell_type": "code",
   "execution_count": null,
   "metadata": {},
   "outputs": [],
   "source": []
  },
  {
   "cell_type": "code",
   "execution_count": null,
   "metadata": {},
   "outputs": [],
   "source": []
  }
 ],
 "metadata": {
  "kernelspec": {
   "display_name": "Python 3",
   "language": "python",
   "name": "python3"
  },
  "language_info": {
   "codemirror_mode": {
    "name": "ipython",
    "version": 3
   },
   "file_extension": ".py",
   "mimetype": "text/x-python",
   "name": "python",
   "nbconvert_exporter": "python",
   "pygments_lexer": "ipython3",
   "version": "3.7.3"
  }
 },
 "nbformat": 4,
 "nbformat_minor": 2
}
