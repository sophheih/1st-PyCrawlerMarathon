{
 "cells": [
  {
   "cell_type": "markdown",
   "metadata": {},
   "source": [
    "# HTTP 靜態網頁架構說明\n",
    "\n",
    "* 認識靜態網頁的溝通架構與運作原理\n",
    "* HTML、CSS、JavaScript 在網頁中扮演的角色\n",
    "* 網頁中定位資料的方法"
   ]
  },
  {
   "cell_type": "markdown",
   "metadata": {},
   "source": [
    "## 作業目標\n",
    "\n",
    "1. （簡答題）請問目前提到的這種基於 HTTP 一來一回的網頁傳輸方式，有哪些缺點及問題？\n",
    "2. （簡答題）網頁中使用的 JavaScipt 程式語言，跟我們一般使用的 Python 在執行上有什麼不同。\n"
   ]
  },
  {
   "cell_type": "markdown",
   "metadata": {},
   "source": [
    "### 1.（簡答題）請問目前提到的這種基於 HTTP 一來一回的網頁傳輸方式，有哪些缺點及問題？"
   ]
  },
  {
   "cell_type": "markdown",
   "metadata": {},
   "source": [
  
    "- 不支援資料庫\n",
    "- 需頻繁維護\n",
    "- 功能上有較多限制\n"
    "傳統的 HTTP 機制都是一個 Request 搭配一個 Response，如果畫面上一個小改變可能就需要重新發送 Request 並處理 Response。\n",
    "舉個例子：如果我的畫面上有很多張圖片，但只是想要改變一個小部分，但每次操作都必須全部圖片重新載入。"
   ]
  },
  {
   "cell_type": "markdown",
   "metadata": {},
   "source": [
    "### 2. （簡答題）網頁中使用的 JavaScipt 程式語言，跟我們一般使用的 Python 在執行上有什麼不同。"
   ]
  },
  {
   "cell_type": "markdown",
   "metadata": {},
   "source": [
    "#### Javascript\n",
    "- 僅支援網頁客戶端的腳本語言\n",
    "- 語法與C語言類似\n",
    "- 執行速度快\n",
    "- 標準程式庫有限\n",
    "- 應於用互動式網頁居多\n",
    
    "\n",
    "#### Python\n",
    "- 支援網路、桌面應用程式的腳本語言\n",
    "- 語法簡潔\n",
    "- 執行速度慢\n",
    "- 標準程式庫龐大\n",
    "- 應用領域廣泛"
   ]
  }
 ],
 "metadata": {
  "kernelspec": {
   "display_name": "Python 3",
   "language": "python",
   "name": "python3"
  },
  "language_info": {
   "codemirror_mode": {
    "name": "ipython",
    "version": 3
   },
   "file_extension": ".py",
   "mimetype": "text/x-python",
   "name": "python",
   "nbconvert_exporter": "python",
   "pygments_lexer": "ipython3",
   "version": "3.7.4"
  }
 },
 "nbformat": 4,
 "nbformat_minor": 2
}
